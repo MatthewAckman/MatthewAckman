{
  "nbformat": 4,
  "nbformat_minor": 0,
  "metadata": {
    "colab": {
      "name": "MMA860.R",
      "provenance": [],
      "authorship_tag": "ABX9TyO+YUtqpd+ngIpeJwiq6TuJ",
      "include_colab_link": true
    },
    "kernelspec": {
      "name": "ir",
      "display_name": "R"
    },
    "language_info": {
      "name": "R"
    }
  },
  "cells": [
    {
      "cell_type": "markdown",
      "metadata": {
        "id": "view-in-github",
        "colab_type": "text"
      },
      "source": [
        "<a href=\"https://colab.research.google.com/github/MatthewAckman/MatthewAckman/blob/main/MMA860_R.ipynb\" target=\"_parent\"><img src=\"https://colab.research.google.com/assets/colab-badge.svg\" alt=\"Open In Colab\"/></a>"
      ]
    },
    {
      "cell_type": "markdown",
      "source": [
        "MMA 860"
      ],
      "metadata": {
        "id": "62EmmCBZaza9"
      }
    },
    {
      "cell_type": "code",
      "execution_count": 3,
      "metadata": {
        "id": "0AXCRj7raJZ7"
      },
      "outputs": [],
      "source": [
        "library(dplyr)\n",
        "library(tidyverse)\n",
        "library(ggplot2)\n",
        "library()"
      ]
    },
    {
      "cell_type": "code",
      "source": [
        "## Load data\n",
        "\n",
        "df = "
      ],
      "metadata": {
        "id": "cox4QgRlaNYi"
      },
      "execution_count": null,
      "outputs": []
    }
  ]
}